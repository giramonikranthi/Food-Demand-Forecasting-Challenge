{
 "cells": [
  {
   "cell_type": "code",
   "execution_count": 1,
   "metadata": {},
   "outputs": [],
   "source": [
    "import sys\n",
    "sys.path.append('C:/Users/rohan/Documents/Projects/Food_Demand_Forecasting_Challenge/Food_Demand_Forecasting_Challenge')\n",
    "\n",
    "# Import standard libraries\n",
    "import numpy as np\n",
    "import pandas as pd\n",
    "import matplotlib.pyplot as plt\n",
    "import seaborn as sns\n",
    "import plotnine as p9\n",
    "%matplotlib inline\n",
    "color = sns.color_palette()\n",
    "\n",
    "pd.options.display.max_columns = 100\n",
    "pd.options.display.max_rows = 100\n",
    "import warnings\n",
    "warnings.filterwarnings(\"ignore\")"
   ]
  },
  {
   "cell_type": "code",
   "execution_count": 3,
   "metadata": {},
   "outputs": [],
   "source": [
    "# Load original train data file\n",
    "original_train_data = pd.read_csv(r'../data/raw/train_GzS76OK/train.csv')\n",
    "meal_data = pd.read_csv(r'../data/raw/train_GzS76OK/meal_info.csv')\n",
    "centers_data = pd.read_csv(r'../data/raw/train_GzS76OK/fulfilment_center_info.csv')\n",
    "\n",
    "# Load original train data file\n",
    "original_test_data = pd.read_csv(r'../data/raw/test_QoiMO9B.csv')"
   ]
  },
  {
   "cell_type": "code",
   "execution_count": 4,
   "metadata": {},
   "outputs": [],
   "source": [
    "# Merge orders train data with meal and center data\n",
    "full_original_train_data = pd.merge(original_train_data, meal_data, on='meal_id', how='left')\n",
    "full_original_train_data = pd.merge(full_original_train_data, centers_data, on='center_id', how='left')\n",
    "\n",
    "# Merge orders test data with meal and center data\n",
    "full_original_test_data = pd.merge(original_test_data, meal_data, on='meal_id', how='left')\n",
    "full_original_test_data = pd.merge(full_original_test_data, centers_data, on='center_id', how='left')"
   ]
  },
  {
   "cell_type": "code",
   "execution_count": 5,
   "metadata": {},
   "outputs": [
    {
     "name": "stdout",
     "output_type": "stream",
     "text": [
      "The original train data has 456548 observations and 15 variables\n",
      "The original test data has 32573 observations and 14 variables\n"
     ]
    }
   ],
   "source": [
    "print('The original train data has {} observations and {} variables'.format(full_original_train_data.shape[0], full_original_train_data.shape[1]))\n",
    "print('The original test data has {} observations and {} variables'.format(full_original_test_data.shape[0], full_original_test_data.shape[1]))"
   ]
  },
  {
   "cell_type": "code",
   "execution_count": 6,
   "metadata": {},
   "outputs": [
    {
     "data": {
      "text/plain": [
       "15"
      ]
     },
     "execution_count": 6,
     "metadata": {},
     "output_type": "execute_result"
    }
   ],
   "source": [
    "full_original_train_data.shape[1]"
   ]
  },
  {
   "cell_type": "code",
   "execution_count": 7,
   "metadata": {},
   "outputs": [
    {
     "data": {
      "text/html": [
       "<div>\n",
       "<style scoped>\n",
       "    .dataframe tbody tr th:only-of-type {\n",
       "        vertical-align: middle;\n",
       "    }\n",
       "\n",
       "    .dataframe tbody tr th {\n",
       "        vertical-align: top;\n",
       "    }\n",
       "\n",
       "    .dataframe thead th {\n",
       "        text-align: right;\n",
       "    }\n",
       "</style>\n",
       "<table border=\"1\" class=\"dataframe\">\n",
       "  <thead>\n",
       "    <tr style=\"text-align: right;\">\n",
       "      <th></th>\n",
       "      <th>id</th>\n",
       "      <th>week</th>\n",
       "      <th>center_id</th>\n",
       "      <th>meal_id</th>\n",
       "      <th>checkout_price</th>\n",
       "      <th>base_price</th>\n",
       "      <th>emailer_for_promotion</th>\n",
       "      <th>homepage_featured</th>\n",
       "      <th>num_orders</th>\n",
       "      <th>category</th>\n",
       "      <th>cuisine</th>\n",
       "      <th>city_code</th>\n",
       "      <th>region_code</th>\n",
       "      <th>center_type</th>\n",
       "      <th>op_area</th>\n",
       "    </tr>\n",
       "  </thead>\n",
       "  <tbody>\n",
       "    <tr>\n",
       "      <td>0</td>\n",
       "      <td>1379560</td>\n",
       "      <td>1</td>\n",
       "      <td>55</td>\n",
       "      <td>1885</td>\n",
       "      <td>136.83</td>\n",
       "      <td>152.29</td>\n",
       "      <td>0</td>\n",
       "      <td>0</td>\n",
       "      <td>177</td>\n",
       "      <td>Beverages</td>\n",
       "      <td>Thai</td>\n",
       "      <td>647</td>\n",
       "      <td>56</td>\n",
       "      <td>TYPE_C</td>\n",
       "      <td>2.0</td>\n",
       "    </tr>\n",
       "    <tr>\n",
       "      <td>1</td>\n",
       "      <td>1466964</td>\n",
       "      <td>1</td>\n",
       "      <td>55</td>\n",
       "      <td>1993</td>\n",
       "      <td>136.83</td>\n",
       "      <td>135.83</td>\n",
       "      <td>0</td>\n",
       "      <td>0</td>\n",
       "      <td>270</td>\n",
       "      <td>Beverages</td>\n",
       "      <td>Thai</td>\n",
       "      <td>647</td>\n",
       "      <td>56</td>\n",
       "      <td>TYPE_C</td>\n",
       "      <td>2.0</td>\n",
       "    </tr>\n",
       "    <tr>\n",
       "      <td>2</td>\n",
       "      <td>1346989</td>\n",
       "      <td>1</td>\n",
       "      <td>55</td>\n",
       "      <td>2539</td>\n",
       "      <td>134.86</td>\n",
       "      <td>135.86</td>\n",
       "      <td>0</td>\n",
       "      <td>0</td>\n",
       "      <td>189</td>\n",
       "      <td>Beverages</td>\n",
       "      <td>Thai</td>\n",
       "      <td>647</td>\n",
       "      <td>56</td>\n",
       "      <td>TYPE_C</td>\n",
       "      <td>2.0</td>\n",
       "    </tr>\n",
       "    <tr>\n",
       "      <td>3</td>\n",
       "      <td>1338232</td>\n",
       "      <td>1</td>\n",
       "      <td>55</td>\n",
       "      <td>2139</td>\n",
       "      <td>339.50</td>\n",
       "      <td>437.53</td>\n",
       "      <td>0</td>\n",
       "      <td>0</td>\n",
       "      <td>54</td>\n",
       "      <td>Beverages</td>\n",
       "      <td>Indian</td>\n",
       "      <td>647</td>\n",
       "      <td>56</td>\n",
       "      <td>TYPE_C</td>\n",
       "      <td>2.0</td>\n",
       "    </tr>\n",
       "    <tr>\n",
       "      <td>4</td>\n",
       "      <td>1448490</td>\n",
       "      <td>1</td>\n",
       "      <td>55</td>\n",
       "      <td>2631</td>\n",
       "      <td>243.50</td>\n",
       "      <td>242.50</td>\n",
       "      <td>0</td>\n",
       "      <td>0</td>\n",
       "      <td>40</td>\n",
       "      <td>Beverages</td>\n",
       "      <td>Indian</td>\n",
       "      <td>647</td>\n",
       "      <td>56</td>\n",
       "      <td>TYPE_C</td>\n",
       "      <td>2.0</td>\n",
       "    </tr>\n",
       "  </tbody>\n",
       "</table>\n",
       "</div>"
      ],
      "text/plain": [
       "        id  week  center_id  meal_id  checkout_price  base_price  \\\n",
       "0  1379560     1         55     1885          136.83      152.29   \n",
       "1  1466964     1         55     1993          136.83      135.83   \n",
       "2  1346989     1         55     2539          134.86      135.86   \n",
       "3  1338232     1         55     2139          339.50      437.53   \n",
       "4  1448490     1         55     2631          243.50      242.50   \n",
       "\n",
       "   emailer_for_promotion  homepage_featured  num_orders   category cuisine  \\\n",
       "0                      0                  0         177  Beverages    Thai   \n",
       "1                      0                  0         270  Beverages    Thai   \n",
       "2                      0                  0         189  Beverages    Thai   \n",
       "3                      0                  0          54  Beverages  Indian   \n",
       "4                      0                  0          40  Beverages  Indian   \n",
       "\n",
       "   city_code  region_code center_type  op_area  \n",
       "0        647           56      TYPE_C      2.0  \n",
       "1        647           56      TYPE_C      2.0  \n",
       "2        647           56      TYPE_C      2.0  \n",
       "3        647           56      TYPE_C      2.0  \n",
       "4        647           56      TYPE_C      2.0  "
      ]
     },
     "execution_count": 7,
     "metadata": {},
     "output_type": "execute_result"
    }
   ],
   "source": [
    "full_original_train_data.head()"
   ]
  },
  {
   "cell_type": "code",
   "execution_count": 8,
   "metadata": {},
   "outputs": [
    {
     "name": "stdout",
     "output_type": "stream",
     "text": [
      "<class 'pandas.core.frame.DataFrame'>\n",
      "Int64Index: 456548 entries, 0 to 456547\n",
      "Data columns (total 15 columns):\n",
      "id                       456548 non-null int64\n",
      "week                     456548 non-null int64\n",
      "center_id                456548 non-null int64\n",
      "meal_id                  456548 non-null int64\n",
      "checkout_price           456548 non-null float64\n",
      "base_price               456548 non-null float64\n",
      "emailer_for_promotion    456548 non-null int64\n",
      "homepage_featured        456548 non-null int64\n",
      "num_orders               456548 non-null int64\n",
      "category                 456548 non-null object\n",
      "cuisine                  456548 non-null object\n",
      "city_code                456548 non-null int64\n",
      "region_code              456548 non-null int64\n",
      "center_type              456548 non-null object\n",
      "op_area                  456548 non-null float64\n",
      "dtypes: float64(3), int64(9), object(3)\n",
      "memory usage: 55.7+ MB\n"
     ]
    }
   ],
   "source": [
    "full_original_train_data.info()"
   ]
  },
  {
   "cell_type": "code",
   "execution_count": 9,
   "metadata": {},
   "outputs": [
    {
     "name": "stdout",
     "output_type": "stream",
     "text": [
      "<class 'pandas.core.frame.DataFrame'>\n",
      "Int64Index: 32573 entries, 0 to 32572\n",
      "Data columns (total 14 columns):\n",
      "id                       32573 non-null int64\n",
      "week                     32573 non-null int64\n",
      "center_id                32573 non-null int64\n",
      "meal_id                  32573 non-null int64\n",
      "checkout_price           32573 non-null float64\n",
      "base_price               32573 non-null float64\n",
      "emailer_for_promotion    32573 non-null int64\n",
      "homepage_featured        32573 non-null int64\n",
      "category                 32573 non-null object\n",
      "cuisine                  32573 non-null object\n",
      "city_code                32573 non-null int64\n",
      "region_code              32573 non-null int64\n",
      "center_type              32573 non-null object\n",
      "op_area                  32573 non-null float64\n",
      "dtypes: float64(3), int64(8), object(3)\n",
      "memory usage: 3.7+ MB\n"
     ]
    }
   ],
   "source": [
    "full_original_test_data.info()"
   ]
  },
  {
   "cell_type": "code",
   "execution_count": 10,
   "metadata": {},
   "outputs": [
    {
     "name": "stdout",
     "output_type": "stream",
     "text": [
      "There are 51 unique meals served\n"
     ]
    }
   ],
   "source": [
    "# Compute the number of unique meals\n",
    "meal_list = np.sort(full_original_train_data['meal_id'].unique())\n",
    "print('There are {} unique meals served'.format(len(meal_list)))"
   ]
  },
  {
   "cell_type": "code",
   "execution_count": 11,
   "metadata": {},
   "outputs": [
    {
     "name": "stdout",
     "output_type": "stream",
     "text": [
      "There are 77 unique centers\n"
     ]
    }
   ],
   "source": [
    "# Compute the number of unique centers\n",
    "center_list = np.sort(full_original_train_data['center_id'].unique())\n",
    "print('There are {} unique centers'.format(len(center_list)))"
   ]
  },
  {
   "cell_type": "code",
   "execution_count": 12,
   "metadata": {},
   "outputs": [
    {
     "data": {
      "text/plain": [
       "<matplotlib.axes._subplots.AxesSubplot at 0x2d43d511a08>"
      ]
     },
     "execution_count": 12,
     "metadata": {},
     "output_type": "execute_result"
    },
    {
     "data": {
      "image/png": "[encoded data removed]",
      "text/plain": [
       "<Figure size 864x720 with 2 Axes>"
      ]
     },
     "metadata": {
      "needs_background": "light"
     },
     "output_type": "display_data"
    }
   ],
   "source": [
    "# Plot the linear correlation between different numerical features\n",
    "plt.figure(figsize=(12,10))\n",
    "corr = full_original_train_data.corr()\n",
    "sns.heatmap(corr,annot=True, fmt='.2f')"
   ]
  },
  {
   "cell_type": "markdown",
   "metadata": {
    "scrolled": true
   },
   "source": [
    "* There's an almost perfect positive correlation between checkout_price and base price, which is as expected.\n",
    "* More interestingly, there's a noticeable positive correlation between `emailers_for_promotion` and `num_of_orders`.\n",
    "* There's also a noticeable positive correlation between `homepage_featured` and `num_of_orders`.\n",
    "* Again, as expected, there's a noticeable negative correlation between `checkout_price` and `num_of_orders` and a similar correlation between `base_price` and `num_of_orders`.\n",
    "* There's a positive correlation between `op_area` and `num_of_orders` which corroborates the logic, higher the operating area of a center, larger the customer base the center caters to and hence larger the number of orders placed at the center"
   ]
  },
  {
   "cell_type": "markdown",
   "metadata": {},
   "source": [
    "### Build Our Data\n",
    "The whole data has 456548 rows, it consists of data for 145 weeks. Let's train our predictive models on data for the `first 130 weeks (week 1 to week 130)`, then validate our models for the `next 10 weeks (from week 131 to week 140)` and then finally test our model on the `last 5 weeks (week 141 to week 145)`. "
   ]
  },
  {
   "cell_type": "code",
   "execution_count": 13,
   "metadata": {},
   "outputs": [],
   "source": [
    "# SLice the full original train data into three sets: train, validation and test set\n",
    "\n",
    "train = full_original_train_data[full_original_train_data['week'] <= 130].copy()\n",
    "val   = full_original_train_data[(full_original_train_data['week'] >= 131) & (full_original_train_data['week'] <= 140)].copy()\n",
    "test  = full_original_train_data[(full_original_train_data['week'] >= 141) & (full_original_train_data['week'] <= 145)].copy()"
   ]
  },
  {
   "cell_type": "code",
   "execution_count": 14,
   "metadata": {},
   "outputs": [
    {
     "name": "stdout",
     "output_type": "stream",
     "text": [
      "Train dataset has 407243 observations\n",
      "Validation dataset has 32929 observations\n",
      "Test dataset has 16376 observations\n"
     ]
    }
   ],
   "source": [
    "print('Train dataset has {} observations'.format(train.shape[0]))\n",
    "print('Validation dataset has {} observations'.format(val.shape[0]))\n",
    "print('Test dataset has {} observations'.format(test.shape[0]))"
   ]
  },
  {
   "cell_type": "code",
   "execution_count": 15,
   "metadata": {},
   "outputs": [],
   "source": [
    "# Save the datasets to disk\n",
    "train.to_csv(r'../data/interim/train_data.csv', index=False)\n",
    "val.to_csv(r'../data/interim/val_data.csv', index=False)\n",
    "test.to_csv(r'../data/interim/test_data.csv', index=False)\n",
    "\n",
    "full_original_train_data.to_csv(r'../data/interim/full_original_train_data.csv', index=False)\n",
    "full_original_test_data.to_csv(r'../data/interim/full_original_test_data.csv', index=False)"
   ]
  },
  {
   "cell_type": "markdown",
   "metadata": {},
   "source": [
    "### Visualize The Data\n",
    "Let's visualize each of the features against our target variable"
   ]
  },
  {
   "cell_type": "code",
   "execution_count": 15,
   "metadata": {},
   "outputs": [
    {
     "ename": "NameError",
     "evalue": "name 'train_data' is not defined",
     "output_type": "error",
     "traceback": [
      "\u001b[1;31m---------------------------------------------------------------------------\u001b[0m",
      "\u001b[1;31mNameError\u001b[0m                                 Traceback (most recent call last)",
      "\u001b[1;32m<ipython-input-15-4bd50fd496c1>\u001b[0m in \u001b[0;36m<module>\u001b[1;34m\u001b[0m\n\u001b[0;32m      3\u001b[0m            mapping=p9.aes(x='checkout_price', y='num_orders'))\n\u001b[0;32m      4\u001b[0m \u001b[1;33m+\u001b[0m \u001b[0mp9\u001b[0m\u001b[1;33m.\u001b[0m\u001b[0mgeom_jitter\u001b[0m\u001b[1;33m(\u001b[0m\u001b[0malpha\u001b[0m\u001b[1;33m=\u001b[0m\u001b[1;36m0.2\u001b[0m\u001b[1;33m)\u001b[0m\u001b[1;33m\u001b[0m\u001b[1;33m\u001b[0m\u001b[0m\n\u001b[1;32m----> 5\u001b[1;33m + p9.scales.scale_color_cmap(name='viridis'));\n\u001b[0m",
      "\u001b[1;31mNameError\u001b[0m: name 'train_data' is not defined"
     ]
    }
   ],
   "source": [
    "# Plot the relation between checkout price and number of orders\n",
    "(p9.ggplot(data=train_data,\n",
    "           mapping=p9.aes(x='checkout_price', y='num_orders'))\n",
    "+ p9.geom_jitter(alpha=0.2)\n",
    "+ p9.scales.scale_color_cmap(name='viridis'));"
   ]
  },
  {
   "cell_type": "markdown",
   "metadata": {},
   "source": [
    "* There's a steady decline in Number of Orders (num_orders) with increase in Checkout Price (checkout_price)."
   ]
  },
  {
   "cell_type": "code",
   "execution_count": null,
   "metadata": {},
   "outputs": [],
   "source": [
    "# Plot the relation between margin and number of orders\n",
    "train_data['discount'] = train_data['base_price'] - train_data['checkout_price']\n",
    "\n",
    "train_data = train_data[train_data['num_orders'] < 15000]\n",
    "\n",
    "(p9.ggplot(data=train_data,\n",
    "           mapping=p9.aes(x='discount', y='num_orders'))\n",
    "+ p9.geom_jitter(alpha=0.2));"
   ]
  },
  {
   "cell_type": "code",
   "execution_count": null,
   "metadata": {},
   "outputs": [],
   "source": [
    "# Plot the relation between Center Type and Number of Orders\n",
    "(p9.ggplot(data=train_data,\n",
    "           mapping=p9.aes(x='center_type', y='num_orders'))\n",
    "+ p9.geom_bar(stat='identity'));"
   ]
  },
  {
   "cell_type": "markdown",
   "metadata": {},
   "source": [
    "Type A centers have by far the most number of orders. This could be because Type_A has more centers in it. Let's dig into this deeper."
   ]
  },
  {
   "cell_type": "code",
   "execution_count": null,
   "metadata": {},
   "outputs": [],
   "source": [
    "# Take a snapshot of all centers and their types\n",
    "week_34_meal_1885 = train_data[(train_data['week'] == 34) & (train_data['meal_id'] == 1885)]\n",
    "centers_and_types = week_34_meal_1885[['center_id','center_type']]\n",
    "center_type_counts = centers_and_types.groupby(['center_type'])['center_id'].count().reset_index(name='type_count')\n",
    "\n",
    "# Plot the number of centers in each type\n",
    "(p9.ggplot(data=center_type_counts,\n",
    "           mapping=p9.aes(x='center_type', y='type_count'))\n",
    "+ p9.geom_bar(stat='identity', position='dodge'));"
   ]
  },
  {
   "cell_type": "markdown",
   "metadata": {},
   "source": [
    "Thus, we can see  that TYPE_A has more than double the number of centers when compared to TYPE_B or TYPE_C. And that partly explains the reason why TYPE_A centers have more number of orders."
   ]
  },
  {
   "cell_type": "code",
   "execution_count": null,
   "metadata": {},
   "outputs": [],
   "source": [
    "# Plot Number of Orders by Operating Area of the Center\n",
    "(p9.ggplot(data=train_data[train_data['num_orders'] < 10000],\n",
    "           mapping=p9.aes(x='factor(op_area)', y='num_orders'))\n",
    "+ p9.geom_jitter(alpha=0.2)\n",
    "+ p9.theme(axis_text_x=p9.element_text(angle=90)));"
   ]
  },
  {
   "cell_type": "markdown",
   "metadata": {},
   "source": [
    "There's a steady increase in number of orders as operating area increases."
   ]
  },
  {
   "cell_type": "code",
   "execution_count": null,
   "metadata": {},
   "outputs": [],
   "source": [
    "# Plot Number of Orders By Cuisine\n",
    "(p9.ggplot(data=train_data,\n",
    "           mapping=p9.aes(x='cuisine', y='num_orders', color='cuisine'))\n",
    "+ p9.geom_bar(stat='identity')\n",
    "+ p9.theme(axis_text_x=p9.element_text(angle=90)));"
   ]
  },
  {
   "cell_type": "markdown",
   "metadata": {},
   "source": [
    "Italian cuisine has the greatest demand followed by Thai."
   ]
  },
  {
   "cell_type": "code",
   "execution_count": null,
   "metadata": {
    "scrolled": false
   },
   "outputs": [],
   "source": [
    "# Plot Number of Orders By Category\n",
    "(p9.ggplot(data=train_data,\n",
    "           mapping=p9.aes(x='category', y='num_orders'))\n",
    "+ p9.geom_bar(stat='identity')\n",
    "+ p9.theme(axis_text_x=p9.element_text(angle=90)));"
   ]
  },
  {
   "cell_type": "markdown",
   "metadata": {},
   "source": [
    "The most popular category by far is Beverages. Rice Bowl is the second most popular closely followed by Sandwich."
   ]
  },
  {
   "cell_type": "code",
   "execution_count": null,
   "metadata": {},
   "outputs": [],
   "source": [
    "# Plot Number of Orders By Category for Italian Cuisine\n",
    "\n",
    "italian_data = train_data[train_data['cuisine'] == 'Italian']\n",
    "(p9.ggplot(data=italian_data,\n",
    "           mapping=p9.aes(x='category', y='num_orders'))\n",
    "+ p9.geom_bar(stat='identity')\n",
    "+ p9.theme(axis_text_x=p9.element_text(angle=90))\n",
    "+ p9.labs(title='Number of Orders by Category for Italian Cuisine'));"
   ]
  },
  {
   "cell_type": "markdown",
   "metadata": {},
   "source": [
    "In Italian Cuisine, surprisingly, Sandwich is more popular compared to Beverages."
   ]
  },
  {
   "cell_type": "code",
   "execution_count": null,
   "metadata": {},
   "outputs": [],
   "source": [
    "# Plot Number of Orders By Category for Thai Cuisine\n",
    "thai_data = train_data[train_data['cuisine'] == 'Thai']\n",
    "\n",
    "(p9.ggplot(data=thai_data,\n",
    "           mapping=p9.aes(x='category', y='num_orders'))\n",
    "+ p9.geom_bar(stat='identity')\n",
    "+ p9.theme(axis_text_x=p9.element_text(angle=90))\n",
    "+ p9.labs(title='Number of Orders by Category for Thai Cuisine'));"
   ]
  },
  {
   "cell_type": "markdown",
   "metadata": {},
   "source": [
    "In Thai Cuisine, Beverages are by far the most popular."
   ]
  },
  {
   "cell_type": "code",
   "execution_count": null,
   "metadata": {},
   "outputs": [],
   "source": [
    "# Plot Number of Orders By Category for Indian Cuisine\n",
    "indian_data = train_data[train_data['cuisine'] == 'Indian']\n",
    "\n",
    "(p9.ggplot(data=indian_data,\n",
    "           mapping=p9.aes(x='category', y='num_orders'))\n",
    "+ p9.geom_bar(stat='identity')\n",
    "+ p9.theme(axis_text_x=p9.element_text(angle=90))\n",
    "+ p9.labs(title='Number of Orders by Category for Indian Cuisine'));"
   ]
  },
  {
   "cell_type": "markdown",
   "metadata": {},
   "source": [
    "In Indian cuisine, Rice Bowl is by far the most popular."
   ]
  },
  {
   "cell_type": "code",
   "execution_count": null,
   "metadata": {},
   "outputs": [],
   "source": [
    "# Plot Number of Orders By Category for Continental Cuisine\n",
    "continental_data = train_data[train_data['cuisine'] == 'Continental']\n",
    "\n",
    "(p9.ggplot(data=continental_data,\n",
    "           mapping=p9.aes(x='category', y='num_orders'))\n",
    "+ p9.geom_bar(stat='identity')\n",
    "+ p9.theme(axis_text_x=p9.element_text(angle=90))\n",
    "+ p9.labs(title='Number of Orders by Category for Continental Cuisine'));"
   ]
  },
  {
   "cell_type": "markdown",
   "metadata": {},
   "source": [
    "In Continental cuisine, Beverages are the most popular closely followed by PIzza."
   ]
  },
  {
   "cell_type": "code",
   "execution_count": null,
   "metadata": {},
   "outputs": [],
   "source": [
    "# Plot Number of Orders By Cuisine for Beverages Category\n",
    "beverages_data = train_data[train_data['category'] == 'Beverages']\n",
    "\n",
    "(p9.ggplot(data=beverages_data,\n",
    "           mapping=p9.aes(x='cuisine', y='num_orders'))\n",
    "+ p9.geom_bar(stat='identity')\n",
    "+ p9.theme(axis_text_x=p9.element_text(angle=90))\n",
    "+ p9.labs(title='Number of Orders By Cuisine for Beverages Category'));"
   ]
  },
  {
   "cell_type": "markdown",
   "metadata": {},
   "source": [
    "Among Beverages category, Thai beverages are the most popular, followed by Italian."
   ]
  },
  {
   "cell_type": "code",
   "execution_count": null,
   "metadata": {},
   "outputs": [],
   "source": [
    "# Plot Number of Orders Against Whether or not Promotional Emails were sent out \n",
    "(p9.ggplot(data=train_data,\n",
    "           mapping=p9.aes(x='emailer_for_promotion', y='num_orders'))\n",
    "+ p9.geom_bar(stat='identity')\n",
    "+ p9.theme(axis_text_x=p9.element_text(angle=90))\n",
    "+ p9.labs(title='Number of Orders By Promotional Emailers'));"
   ]
  },
  {
   "cell_type": "code",
   "execution_count": null,
   "metadata": {},
   "outputs": [],
   "source": [
    "# Plot Number of Orders Against Whether or not meal featured on Homepage\n",
    "(p9.ggplot(data=train_data,\n",
    "           mapping=p9.aes(x='homepage_featured', y='num_orders'))\n",
    "+ p9.geom_bar(stat='identity')\n",
    "+ p9.theme(axis_text_x=p9.element_text(angle=90))\n",
    "+ p9.labs(title='Number of Orders By Homepage Featured'));"
   ]
  },
  {
   "cell_type": "code",
   "execution_count": null,
   "metadata": {},
   "outputs": [],
   "source": [
    "# Plot Number of Orders Vs Promotional Emailers Vs Category \n",
    "(p9.ggplot(data=train_data,\n",
    "           mapping=p9.aes(x='factor(checkout_price)', y='num_orders', color='emailer_for_promotion'))\n",
    "+ p9.geom_violin()\n",
    "+ p9.theme(axis_text_x=p9.element_text(angle=90))\n",
    "+ p9.labs(title='Number of Orders Vs Checkout Price Vs Promotional Emailers'));"
   ]
  },
  {
   "cell_type": "code",
   "execution_count": null,
   "metadata": {},
   "outputs": [],
   "source": [
    "# Plot Number of Orders By Cuisine\n",
    "(p9.ggplot(data=full_data,\n",
    "           mapping=p9.aes(x='cuisine', y='num_orders', color='cuisine'))\n",
    "+ p9.geom_bar(stat='identity')\n",
    "+ p9.theme(axis_text_x=p9.element_text(angle=90)));"
   ]
  },
  {
   "cell_type": "code",
   "execution_count": null,
   "metadata": {},
   "outputs": [],
   "source": [
    "# Plot Number of Orders By Category\n",
    "(p9.ggplot(data=full_data,\n",
    "           mapping=p9.aes(x='category', y='num_orders'))\n",
    "+ p9.geom_bar(stat='identity')\n",
    "+ p9.theme(axis_text_x=p9.element_text(angle=90)));"
   ]
  },
  {
   "cell_type": "code",
   "execution_count": null,
   "metadata": {},
   "outputs": [],
   "source": []
  },
  {
   "cell_type": "code",
   "execution_count": null,
   "metadata": {},
   "outputs": [],
   "source": []
  },
  {
   "cell_type": "code",
   "execution_count": null,
   "metadata": {},
   "outputs": [],
   "source": []
  }
 ],
 "metadata": {
  "kernelspec": {
   "display_name": "Python (fdfc)",
   "language": "python",
   "name": "fdfc"
  },
  "language_info": {
   "codemirror_mode": {
    "name": "ipython",
    "version": 3
   },
   "file_extension": ".py",
   "mimetype": "text/x-python",
   "name": "python",
   "nbconvert_exporter": "python",
   "pygments_lexer": "ipython3",
   "version": "3.7.4"
  }
 },
 "nbformat": 4,
 "nbformat_minor": 2
}
