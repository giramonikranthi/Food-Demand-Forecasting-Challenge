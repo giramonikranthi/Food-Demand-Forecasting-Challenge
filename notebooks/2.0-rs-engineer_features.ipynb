{
 "cells": [
  {
   "cell_type": "code",
   "execution_count": 1,
   "metadata": {},
   "outputs": [],
   "source": [
    "import sys\n",
    "sys.path.append('C:/Users/rohan/Documents/Projects/Food_Demand_Forecasting_Challenge/Food_Demand_Forecasting_Challenge')\n",
    "\n",
    "# Import standard libraries\n",
    "import numpy as np\n",
    "import pandas as pd\n",
    "import matplotlib.pyplot as plt\n",
    "import seaborn as sns\n",
    "import plotnine as p9\n",
    "%matplotlib inline\n",
    "color = sns.color_palette()\n",
    "\n",
    "# Import local libraries\n",
    "from src.features import build_features\n",
    "\n",
    "pd.options.display.max_columns = 100\n",
    "pd.options.display.max_rows = 100\n",
    "import warnings\n",
    "warnings.filterwarnings(\"ignore\")"
   ]
  },
  {
   "cell_type": "code",
   "execution_count": 2,
   "metadata": {},
   "outputs": [],
   "source": [
    "# Load data files\n",
    "train = pd.read_csv(r'../data/interim/train_data.csv')\n",
    "val = pd.read_csv(r'../data/interim/val_data.csv')\n",
    "test = pd.read_csv(r'../data/interim/test_data.csv')\n",
    "\n",
    "full_original_train_data = pd.read_csv(r'../data/interim/full_original_train_data.csv')\n",
    "full_original_test_data = pd.read_csv(r'../data/interim/full_original_test_data.csv')"
   ]
  },
  {
   "cell_type": "markdown",
   "metadata": {},
   "source": [
    "### Build Features"
   ]
  },
  {
   "cell_type": "markdown",
   "metadata": {},
   "source": [
    "#### 1. Features on Center_id"
   ]
  },
  {
   "cell_type": "code",
   "execution_count": 3,
   "metadata": {},
   "outputs": [],
   "source": [
    "# Create a copy of the datasets to build features on \n",
    "train_df = train.copy()\n",
    "val_df = val.copy()\n",
    "test_df = test.copy()\n",
    "\n",
    "full_original_train_data_df = full_original_train_data.copy()\n",
    "full_original_test_data_df = full_original_test_data.copy()"
   ]
  },
  {
   "cell_type": "code",
   "execution_count": 4,
   "metadata": {},
   "outputs": [
    {
     "data": {
      "text/html": [
       "<div>\n",
       "<style scoped>\n",
       "    .dataframe tbody tr th:only-of-type {\n",
       "        vertical-align: middle;\n",
       "    }\n",
       "\n",
       "    .dataframe tbody tr th {\n",
       "        vertical-align: top;\n",
       "    }\n",
       "\n",
       "    .dataframe thead th {\n",
       "        text-align: right;\n",
       "    }\n",
       "</style>\n",
       "<table border=\"1\" class=\"dataframe\">\n",
       "  <thead>\n",
       "    <tr style=\"text-align: right;\">\n",
       "      <th></th>\n",
       "      <th>id</th>\n",
       "      <th>week</th>\n",
       "      <th>center_id</th>\n",
       "      <th>meal_id</th>\n",
       "      <th>checkout_price</th>\n",
       "      <th>base_price</th>\n",
       "      <th>emailer_for_promotion</th>\n",
       "      <th>homepage_featured</th>\n",
       "      <th>num_orders</th>\n",
       "      <th>category</th>\n",
       "      <th>cuisine</th>\n",
       "      <th>city_code</th>\n",
       "      <th>region_code</th>\n",
       "      <th>center_type</th>\n",
       "      <th>op_area</th>\n",
       "    </tr>\n",
       "  </thead>\n",
       "  <tbody>\n",
       "    <tr>\n",
       "      <td>0</td>\n",
       "      <td>1379560</td>\n",
       "      <td>1</td>\n",
       "      <td>55</td>\n",
       "      <td>1885</td>\n",
       "      <td>136.83</td>\n",
       "      <td>152.29</td>\n",
       "      <td>0</td>\n",
       "      <td>0</td>\n",
       "      <td>177</td>\n",
       "      <td>Beverages</td>\n",
       "      <td>Thai</td>\n",
       "      <td>647</td>\n",
       "      <td>56</td>\n",
       "      <td>TYPE_C</td>\n",
       "      <td>2.0</td>\n",
       "    </tr>\n",
       "    <tr>\n",
       "      <td>1</td>\n",
       "      <td>1466964</td>\n",
       "      <td>1</td>\n",
       "      <td>55</td>\n",
       "      <td>1993</td>\n",
       "      <td>136.83</td>\n",
       "      <td>135.83</td>\n",
       "      <td>0</td>\n",
       "      <td>0</td>\n",
       "      <td>270</td>\n",
       "      <td>Beverages</td>\n",
       "      <td>Thai</td>\n",
       "      <td>647</td>\n",
       "      <td>56</td>\n",
       "      <td>TYPE_C</td>\n",
       "      <td>2.0</td>\n",
       "    </tr>\n",
       "  </tbody>\n",
       "</table>\n",
       "</div>"
      ],
      "text/plain": [
       "        id  week  center_id  meal_id  checkout_price  base_price  \\\n",
       "0  1379560     1         55     1885          136.83      152.29   \n",
       "1  1466964     1         55     1993          136.83      135.83   \n",
       "\n",
       "   emailer_for_promotion  homepage_featured  num_orders   category cuisine  \\\n",
       "0                      0                  0         177  Beverages    Thai   \n",
       "1                      0                  0         270  Beverages    Thai   \n",
       "\n",
       "   city_code  region_code center_type  op_area  \n",
       "0        647           56      TYPE_C      2.0  \n",
       "1        647           56      TYPE_C      2.0  "
      ]
     },
     "execution_count": 4,
     "metadata": {},
     "output_type": "execute_result"
    }
   ],
   "source": [
    "train_df.head(2)"
   ]
  },
  {
   "cell_type": "code",
   "execution_count": 5,
   "metadata": {},
   "outputs": [],
   "source": [
    "# Generate 1st derived feature --> Discount\n",
    "train_df['discount'] =  train_df['base_price'] - train_df['checkout_price']\n",
    "val_df['discount']   =  val_df['base_price']   - val_df['checkout_price']\n",
    "test_df['discount']  =  test_df['base_price']  - test_df['checkout_price']\n",
    "\n",
    "full_original_train_data_df['discount']  =  full_original_train_data_df['base_price']  - full_original_train_data_df['checkout_price']\n",
    "full_original_test_data_df['discount']  =  full_original_test_data_df['base_price']  - full_original_test_data_df['checkout_price']"
   ]
  },
  {
   "cell_type": "code",
   "execution_count": 6,
   "metadata": {},
   "outputs": [],
   "source": [
    "# Compute the mean values of Checkout Price (CP) and discount (D) for all meal_ids within a week--center_id combination\n",
    "train_df_1 = build_features.features_by_center(train_df)\n",
    "val_df_1   = build_features.features_by_center(val_df)\n",
    "test_df_1  = build_features.features_by_center(test_df)\n",
    "\n",
    "full_original_train_data_df_1 = build_features.features_by_center(full_original_train_data_df)\n",
    "full_original_test_data_df_1 = build_features.features_by_center(full_original_test_data_df)"
   ]
  },
  {
   "cell_type": "code",
   "execution_count": 7,
   "metadata": {
    "scrolled": false
   },
   "outputs": [
    {
     "name": "stdout",
     "output_type": "stream",
     "text": [
      "(407243, 52)\n",
      "(32929, 52)\n",
      "(16376, 52)\n",
      "(456548, 52)\n",
      "(32573, 51)\n"
     ]
    }
   ],
   "source": [
    "print(train_df_1.shape)\n",
    "print(val_df_1.shape)\n",
    "print(test_df_1.shape)\n",
    "print(full_original_train_data_df_1.shape)\n",
    "print(full_original_test_data_df_1.shape)"
   ]
  },
  {
   "cell_type": "code",
   "execution_count": 8,
   "metadata": {},
   "outputs": [],
   "source": [
    "# Compute the total meals for each week--center_id combination\n",
    "train_df_2 = build_features.total_meals_by_center(train_df_1)\n",
    "val_df_2   = build_features.total_meals_by_center(val_df_1)\n",
    "test_df_2  = build_features.total_meals_by_center(test_df_1)\n",
    "\n",
    "full_original_train_data_df_2 = build_features.total_meals_by_center(full_original_train_data_df_1)\n",
    "full_original_test_data_df_2 = build_features.total_meals_by_center(full_original_test_data_df_1)"
   ]
  },
  {
   "cell_type": "code",
   "execution_count": 9,
   "metadata": {},
   "outputs": [
    {
     "name": "stdout",
     "output_type": "stream",
     "text": [
      "(407243, 53)\n",
      "(32929, 53)\n",
      "(16376, 53)\n",
      "(456548, 53)\n",
      "(32573, 52)\n"
     ]
    }
   ],
   "source": [
    "print(train_df_2.shape)\n",
    "print(val_df_2.shape)\n",
    "print(test_df_2.shape)\n",
    "print(full_original_train_data_df_2.shape)\n",
    "print(full_original_test_data_df_2.shape)"
   ]
  },
  {
   "cell_type": "markdown",
   "metadata": {},
   "source": [
    "#### Features on EP and HF"
   ]
  },
  {
   "cell_type": "code",
   "execution_count": 10,
   "metadata": {},
   "outputs": [],
   "source": [
    "# Find the number of meal_ids by category and cuisine that were featured on Homepage and number of meal_ids \n",
    "# that were promoted by emailers\n",
    "train_df_3 = build_features.features_by_ep_or_hf(train_df_2)\n",
    "val_df_3   = build_features.features_by_ep_or_hf(val_df_2)\n",
    "test_df_3  = build_features.features_by_ep_or_hf(test_df_2)\n",
    "\n",
    "full_original_train_data_df_3 = build_features.features_by_ep_or_hf(full_original_train_data_df_2)\n",
    "full_original_test_data_df_3 = build_features.features_by_ep_or_hf(full_original_test_data_df_2)"
   ]
  },
  {
   "cell_type": "code",
   "execution_count": 11,
   "metadata": {},
   "outputs": [
    {
     "name": "stdout",
     "output_type": "stream",
     "text": [
      "(407243, 57)\n",
      "(32929, 57)\n",
      "(16376, 57)\n",
      "(456548, 57)\n",
      "(32573, 56)\n"
     ]
    }
   ],
   "source": [
    "print(train_df_3.shape)\n",
    "print(val_df_3.shape)\n",
    "print(test_df_3.shape)\n",
    "print(full_original_train_data_df_3.shape)\n",
    "print(full_original_test_data_df_3.shape)"
   ]
  },
  {
   "cell_type": "markdown",
   "metadata": {},
   "source": [
    "#### Features on City and Region"
   ]
  },
  {
   "cell_type": "code",
   "execution_count": 12,
   "metadata": {},
   "outputs": [],
   "source": [
    "# Compute total and mean operating area for each region and city and \n",
    "# ratio of center op area to total region op area and city op area\n",
    "train_df_4 = build_features.features_by_city_or_region(train_df_3)\n",
    "val_df_4   = build_features.features_by_city_or_region(val_df_3)\n",
    "test_df_4  = build_features.features_by_city_or_region(test_df_3)\n",
    "\n",
    "full_original_train_data_df_4 = build_features.features_by_city_or_region(full_original_train_data_df_3)\n",
    "full_original_test_data_df_4 = build_features.features_by_city_or_region(full_original_test_data_df_3)"
   ]
  },
  {
   "cell_type": "code",
   "execution_count": 13,
   "metadata": {},
   "outputs": [
    {
     "name": "stdout",
     "output_type": "stream",
     "text": [
      "(407243, 61)\n",
      "(32929, 61)\n",
      "(16376, 61)\n",
      "(456548, 61)\n",
      "(32573, 60)\n"
     ]
    }
   ],
   "source": [
    "print(train_df_4.shape)\n",
    "print(val_df_4.shape)\n",
    "print(test_df_4.shape)\n",
    "print(full_original_train_data_df_4.shape)\n",
    "print(full_original_test_data_df_4.shape)"
   ]
  },
  {
   "cell_type": "markdown",
   "metadata": {},
   "source": [
    "#### Temporal Features"
   ]
  },
  {
   "cell_type": "code",
   "execution_count": 14,
   "metadata": {},
   "outputs": [],
   "source": [
    "# Check if a meal--center combination was promoted by email or featured on homepage last week \n",
    "# or the week before and the cumulative sum of all previous promotions and features\n",
    "train_df_5 = build_features.temporal_features_set_1(train_df_4)\n",
    "val_df_5   = build_features.temporal_features_set_1(val_df_4)\n",
    "test_df_5  = build_features.temporal_features_set_1(test_df_4)\n",
    "\n",
    "full_original_train_data_df_5 = build_features.temporal_features_set_1(full_original_train_data_df_4)\n",
    "full_original_test_data_df_5 = build_features.temporal_features_set_1(full_original_test_data_df_4)"
   ]
  },
  {
   "cell_type": "code",
   "execution_count": 15,
   "metadata": {},
   "outputs": [
    {
     "name": "stdout",
     "output_type": "stream",
     "text": [
      "(407243, 67)\n",
      "(32929, 67)\n",
      "(16376, 67)\n",
      "(456548, 67)\n",
      "(32573, 66)\n"
     ]
    }
   ],
   "source": [
    "print(train_df_5.shape)\n",
    "print(val_df_5.shape)\n",
    "print(test_df_5.shape)\n",
    "print(full_original_train_data_df_5.shape)\n",
    "print(full_original_test_data_df_5.shape)"
   ]
  },
  {
   "cell_type": "code",
   "execution_count": 16,
   "metadata": {},
   "outputs": [],
   "source": [
    "# Compute last week checkout price and last week discount of each meal--center combination  \n",
    "# and check if current set of checkout price and discount is greater than last week's\n",
    "\n",
    "train_df_6 = build_features.temporal_features_set_2(train_df_5)\n",
    "val_df_6   = build_features.temporal_features_set_2(val_df_5)\n",
    "test_df_6  = build_features.temporal_features_set_2(test_df_5)\n",
    "\n",
    "full_original_train_data_df_6 = build_features.temporal_features_set_2(full_original_train_data_df_5)\n",
    "full_original_test_data_df_6 = build_features.temporal_features_set_2(full_original_test_data_df_5)"
   ]
  },
  {
   "cell_type": "code",
   "execution_count": 17,
   "metadata": {},
   "outputs": [
    {
     "name": "stdout",
     "output_type": "stream",
     "text": [
      "(407243, 71)\n",
      "(32929, 71)\n",
      "(16376, 71)\n",
      "(456548, 71)\n",
      "(32573, 70)\n"
     ]
    }
   ],
   "source": [
    "print(train_df_6.shape)\n",
    "print(val_df_6.shape)\n",
    "print(test_df_6.shape)\n",
    "print(full_original_train_data_df_6.shape)\n",
    "print(full_original_test_data_df_6.shape)"
   ]
  },
  {
   "cell_type": "code",
   "execution_count": 18,
   "metadata": {},
   "outputs": [],
   "source": [
    "#  Create Label Encoder features for different set of cuisine and categories\n",
    "train_df_7 = build_features.features_by_cui_or_cat(train_df_6)\n",
    "val_df_7   = build_features.features_by_cui_or_cat(val_df_6)\n",
    "test_df_7  = build_features.features_by_cui_or_cat(test_df_6)\n",
    "\n",
    "full_original_train_data_df_7 = build_features.features_by_cui_or_cat(full_original_train_data_df_6)\n",
    "full_original_test_data_df_7 = build_features.features_by_cui_or_cat(full_original_test_data_df_6)"
   ]
  },
  {
   "cell_type": "code",
   "execution_count": 19,
   "metadata": {},
   "outputs": [
    {
     "name": "stdout",
     "output_type": "stream",
     "text": [
      "(407243, 76)\n",
      "(32929, 76)\n",
      "(16376, 76)\n",
      "(456548, 76)\n",
      "(32573, 75)\n"
     ]
    }
   ],
   "source": [
    "print(train_df_7.shape)\n",
    "print(val_df_7.shape)\n",
    "print(test_df_7.shape)\n",
    "print(full_original_train_data_df_7.shape)\n",
    "print(full_original_test_data_df_7.shape)"
   ]
  },
  {
   "cell_type": "code",
   "execution_count": 20,
   "metadata": {},
   "outputs": [],
   "source": [
    "# Create a separate dataframe for features\n",
    "train_features = train_df_7.drop(['num_orders'], axis=1).copy()\n",
    "val_features = val_df_7.drop(['num_orders'], axis=1).copy()\n",
    "test_features = test_df_7.drop(['num_orders'], axis=1).copy()\n",
    "\n",
    "full_original_train_features = full_original_train_data_df_7.drop(['num_orders'], axis=1).copy()\n",
    "full_original_test_features = full_original_test_data_df_7.copy()"
   ]
  },
  {
   "cell_type": "code",
   "execution_count": 21,
   "metadata": {},
   "outputs": [],
   "source": [
    "# Create a separate dataframe for targets\n",
    "train_target = train_df_7['num_orders'].copy()\n",
    "val_target = val_df_7['num_orders'].copy()\n",
    "test_target = test_df_7['num_orders'].copy()\n",
    "full_original_train_target = full_original_train_data_df_7['num_orders'].copy()"
   ]
  },
  {
   "cell_type": "code",
   "execution_count": 22,
   "metadata": {},
   "outputs": [],
   "source": [
    "# Save the features dataframe to disk\n",
    "train_features.to_csv(r'../data/processed/built_features/train_features.csv', index=False)\n",
    "val_features.to_csv(r'../data/processed/built_features/val_features.csv', index=False)\n",
    "test_features.to_csv(r'../data/processed/built_features/test_features.csv', index=False)\n",
    "\n",
    "full_original_train_features.to_csv(r'../data/processed/built_features/full_original_train_features.csv', index=False)\n",
    "full_original_test_features.to_csv(r'../data/processed/built_features/full_original_test_features.csv', index=False)"
   ]
  },
  {
   "cell_type": "code",
   "execution_count": 23,
   "metadata": {},
   "outputs": [],
   "source": [
    "# Save the target dataframe to disk\n",
    "train_target.to_csv(r'../data/processed/target/train_target.csv', index=False)\n",
    "val_target.to_csv(r'../data/processed/target/val_target.csv', index=False)\n",
    "test_target.to_csv(r'../data/processed/target/test_target.csv', index=False)\n",
    "full_original_train_target.to_csv(r'../data/processed/target/full_original_train_target.csv', index=False)"
   ]
  }
 ],
 "metadata": {
  "kernelspec": {
   "display_name": "Python (fdfc)",
   "language": "python",
   "name": "fdfc"
  },
  "language_info": {
   "codemirror_mode": {
    "name": "ipython",
    "version": 3
   },
   "file_extension": ".py",
   "mimetype": "text/x-python",
   "name": "python",
   "nbconvert_exporter": "python",
   "pygments_lexer": "ipython3",
   "version": "3.7.4"
  }
 },
 "nbformat": 4,
 "nbformat_minor": 2
}
